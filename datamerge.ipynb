{
 "cells": [
  {
   "cell_type": "code",
   "execution_count": null,
   "id": "b44cf1db",
   "metadata": {},
   "outputs": [],
   "source": [
    "# glob is a library to find pathnames using regex patterns\n",
    "import os\n",
    "import glob\n",
    "import pandas as pd"
   ]
  },
  {
   "cell_type": "code",
   "execution_count": null,
   "id": "f4e90042",
   "metadata": {},
   "outputs": [],
   "source": [
    "os.chdir(\"file path\")\n",
    "\n",
    "extension = 'csv' #csv로 파일 확장자 지정 \n",
    "all_filenames = [i for i in glob.glob('*.{}'.format(extension))]\n",
    "\n",
    "#combine all files in the list\n",
    "combined_csv = pd.concat([pd.read_csv(f) for f in all_filenames ]) #지정한 파일 경로에 있는 모든 파일 불러오기\n",
    "\n",
    "#export to csv\n",
    "combined_csv.to_csv( \"combined_csv.csv\", index=False, encoding='utf-8-sig') \n",
    "#combined_csv는 병합할 파일명으로 각자 변경하면 된다. \n",
    "#인코딩을 반드시! 해줘야 한다. 안그러면 깨진다. "
   ]
  }
 ],
 "metadata": {
  "kernelspec": {
   "display_name": "Python 3 (ipykernel)",
   "language": "python",
   "name": "python3"
  },
  "language_info": {
   "codemirror_mode": {
    "name": "ipython",
    "version": 3
   },
   "file_extension": ".py",
   "mimetype": "text/x-python",
   "name": "python",
   "nbconvert_exporter": "python",
   "pygments_lexer": "ipython3",
   "version": "3.9.12"
  }
 },
 "nbformat": 4,
 "nbformat_minor": 5
}
