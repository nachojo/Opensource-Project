{
 "cells": [
  {
   "cell_type": "markdown",
   "metadata": {},
   "source": [
    "## 오픈소스 프로젝트"
   ]
  },
  {
   "cell_type": "code",
   "execution_count": 2,
   "metadata": {},
   "outputs": [],
   "source": [
    "# 모듈 import, 필요에 따라 더 추가\n",
    "import re\n",
    "import pandas as pd\n",
    "import os\n",
    "import matplotlib.pyplot as plt\n",
    "import seaborn as sns\n",
    "import numpy as np\n",
    "from sklearn.metrics import r2_score\n",
    "\n",
    "plt.style.use('seaborn')\n",
    "sns.set(font=\"NanumGothic\",rc={\"axes.unicode_minus\":False})"
   ]
  },
  {
   "cell_type": "markdown",
   "metadata": {},
   "source": [
    "#### 데이터셋 불러오기\n",
    "###### trafficDay=서울시 일일 버스 이용량 데이터\n",
    "###### weather=서울시 강수 정보"
   ]
  },
  {
   "cell_type": "code",
   "execution_count": 3,
   "metadata": {},
   "outputs": [],
   "source": [
    "forders_time=os.listdir(\"서울특별시 공공자전거 이용정보(시간대별)_2021년\")\n",
    "forders_month=os.listdir(\"서울특별시 공공자전거 이용정보(월별)_2021년\")\n",
    "df_day=pd.read_csv(\"서울특별시 공공자전거 이용정보(시간대별)_21.01.csv\",encoding='cp949')\n",
    "df_month=pd.DataFrame()\n",
    "df_cor=pd.read_csv(\"서울특별시 공공자전거 이용정보(시간대별)_2021년/서울특별시 공공자전거 이용정보(시간대별)_21.12.csv\",encoding='cp949')\n",
    "df_location=pd.read_csv(\"공공자전거 대여소 정보(21.12월 기준).csv\",encoding='cp949')\n",
    "df_member=pd.read_csv(\"서울특별시 공공자전거 신규가입자 정보(일별).csv\",encoding='cp949')\n",
    "\n",
    "for i in range(len(forders_month)):\n",
    "    file=\"서울특별시 공공자전거 이용정보(월별)_2021년/\"+forders_month[i]\n",
    "    df=pd.read_csv(file,encoding=\"cp949\")\n",
    "    df_month=pd.concat([df_month,df])"
   ]
  },
  {
   "cell_type": "markdown",
   "metadata": {},
   "source": [
    "#### 데이터 셋 확인\n",
    "###### 어떤 데이터들이 있는지 확인해보기 위해 맨 위의 5개의 행을 불러온다."
   ]
  },
  {
   "cell_type": "code",
   "execution_count": 4,
   "metadata": {},
   "outputs": [
    {
     "data": {
      "text/html": [
       "<div>\n",
       "<style scoped>\n",
       "    .dataframe tbody tr th:only-of-type {\n",
       "        vertical-align: middle;\n",
       "    }\n",
       "\n",
       "    .dataframe tbody tr th {\n",
       "        vertical-align: top;\n",
       "    }\n",
       "\n",
       "    .dataframe thead th {\n",
       "        text-align: right;\n",
       "    }\n",
       "</style>\n",
       "<table border=\"1\" class=\"dataframe\">\n",
       "  <thead>\n",
       "    <tr style=\"text-align: right;\">\n",
       "      <th></th>\n",
       "      <th>대여일자</th>\n",
       "      <th>대여시간</th>\n",
       "      <th>대여소번호</th>\n",
       "      <th>대여소명</th>\n",
       "      <th>대여구분코드</th>\n",
       "      <th>성별</th>\n",
       "      <th>연령대코드</th>\n",
       "      <th>이용건수</th>\n",
       "      <th>운동량</th>\n",
       "      <th>탄소량</th>\n",
       "      <th>이동거리</th>\n",
       "      <th>사용시간</th>\n",
       "    </tr>\n",
       "  </thead>\n",
       "  <tbody>\n",
       "    <tr>\n",
       "      <th>0</th>\n",
       "      <td>2021-01-01</td>\n",
       "      <td>0</td>\n",
       "      <td>1347</td>\n",
       "      <td>1347. 길음래미안아파트817동 상가 앞</td>\n",
       "      <td>정기권</td>\n",
       "      <td>NaN</td>\n",
       "      <td>~10대</td>\n",
       "      <td>2</td>\n",
       "      <td>28.90</td>\n",
       "      <td>0.23</td>\n",
       "      <td>992.78</td>\n",
       "      <td>13</td>\n",
       "    </tr>\n",
       "    <tr>\n",
       "      <th>1</th>\n",
       "      <td>2021-01-01</td>\n",
       "      <td>0</td>\n",
       "      <td>1349</td>\n",
       "      <td>1349. 월계2교 버스정류장 앞</td>\n",
       "      <td>정기권</td>\n",
       "      <td>NaN</td>\n",
       "      <td>~10대</td>\n",
       "      <td>1</td>\n",
       "      <td>34.38</td>\n",
       "      <td>0.26</td>\n",
       "      <td>1127.50</td>\n",
       "      <td>10</td>\n",
       "    </tr>\n",
       "    <tr>\n",
       "      <th>2</th>\n",
       "      <td>2021-01-01</td>\n",
       "      <td>0</td>\n",
       "      <td>1168</td>\n",
       "      <td>1168. 마곡엠밸리10단지 앞</td>\n",
       "      <td>정기권</td>\n",
       "      <td>NaN</td>\n",
       "      <td>~10대</td>\n",
       "      <td>1</td>\n",
       "      <td>0.00</td>\n",
       "      <td>0.00</td>\n",
       "      <td>0.00</td>\n",
       "      <td>7</td>\n",
       "    </tr>\n",
       "  </tbody>\n",
       "</table>\n",
       "</div>"
      ],
      "text/plain": [
       "         대여일자  대여시간  대여소번호                     대여소명 대여구분코드   성별 연령대코드  이용건수  \\\n",
       "0  2021-01-01     0   1347  1347. 길음래미안아파트817동 상가 앞    정기권  NaN  ~10대     2   \n",
       "1  2021-01-01     0   1349       1349. 월계2교 버스정류장 앞    정기권  NaN  ~10대     1   \n",
       "2  2021-01-01     0   1168        1168. 마곡엠밸리10단지 앞    정기권  NaN  ~10대     1   \n",
       "\n",
       "     운동량   탄소량     이동거리  사용시간  \n",
       "0  28.90  0.23   992.78    13  \n",
       "1  34.38  0.26  1127.50    10  \n",
       "2   0.00  0.00     0.00     7  "
      ]
     },
     "execution_count": 4,
     "metadata": {},
     "output_type": "execute_result"
    }
   ],
   "source": [
    "df_day.head(3)"
   ]
  },
  {
   "cell_type": "code",
   "execution_count": 5,
   "metadata": {},
   "outputs": [
    {
     "data": {
      "text/html": [
       "<div>\n",
       "<style scoped>\n",
       "    .dataframe tbody tr th:only-of-type {\n",
       "        vertical-align: middle;\n",
       "    }\n",
       "\n",
       "    .dataframe tbody tr th {\n",
       "        vertical-align: top;\n",
       "    }\n",
       "\n",
       "    .dataframe thead th {\n",
       "        text-align: right;\n",
       "    }\n",
       "</style>\n",
       "<table border=\"1\" class=\"dataframe\">\n",
       "  <thead>\n",
       "    <tr style=\"text-align: right;\">\n",
       "      <th></th>\n",
       "      <th>대여일자</th>\n",
       "      <th>대여소번호</th>\n",
       "      <th>대여소명</th>\n",
       "      <th>대여구분코드</th>\n",
       "      <th>성별</th>\n",
       "      <th>연령대코드</th>\n",
       "      <th>이용건수</th>\n",
       "      <th>운동량</th>\n",
       "      <th>탄소량</th>\n",
       "      <th>이동거리(M)</th>\n",
       "      <th>이용시간(분)</th>\n",
       "      <th>이용거리(M)</th>\n",
       "      <th>이용시간(본)</th>\n",
       "    </tr>\n",
       "  </thead>\n",
       "  <tbody>\n",
       "    <tr>\n",
       "      <th>0</th>\n",
       "      <td>2021-01</td>\n",
       "      <td>3</td>\n",
       "      <td>중랑센터</td>\n",
       "      <td>일일(회원)</td>\n",
       "      <td>M</td>\n",
       "      <td>AGE_003</td>\n",
       "      <td>2</td>\n",
       "      <td>47.68</td>\n",
       "      <td>0.40</td>\n",
       "      <td>1720.00</td>\n",
       "      <td>25.0</td>\n",
       "      <td>NaN</td>\n",
       "      <td>NaN</td>\n",
       "    </tr>\n",
       "    <tr>\n",
       "      <th>1</th>\n",
       "      <td>2021-01</td>\n",
       "      <td>3</td>\n",
       "      <td>중랑센터</td>\n",
       "      <td>정기</td>\n",
       "      <td>M</td>\n",
       "      <td>AGE_003</td>\n",
       "      <td>11</td>\n",
       "      <td>578.98</td>\n",
       "      <td>2.87</td>\n",
       "      <td>12390.48</td>\n",
       "      <td>166.0</td>\n",
       "      <td>NaN</td>\n",
       "      <td>NaN</td>\n",
       "    </tr>\n",
       "    <tr>\n",
       "      <th>2</th>\n",
       "      <td>2021-01</td>\n",
       "      <td>3</td>\n",
       "      <td>중랑센터</td>\n",
       "      <td>정기</td>\n",
       "      <td>M</td>\n",
       "      <td>AGE_004</td>\n",
       "      <td>1</td>\n",
       "      <td>81.65</td>\n",
       "      <td>0.53</td>\n",
       "      <td>2291.05</td>\n",
       "      <td>13.0</td>\n",
       "      <td>NaN</td>\n",
       "      <td>NaN</td>\n",
       "    </tr>\n",
       "  </tbody>\n",
       "</table>\n",
       "</div>"
      ],
      "text/plain": [
       "      대여일자  대여소번호  대여소명  대여구분코드 성별    연령대코드  이용건수     운동량   탄소량   이동거리(M)  \\\n",
       "0  2021-01      3  중랑센터  일일(회원)  M  AGE_003     2   47.68  0.40   1720.00   \n",
       "1  2021-01      3  중랑센터      정기  M  AGE_003    11  578.98  2.87  12390.48   \n",
       "2  2021-01      3  중랑센터      정기  M  AGE_004     1   81.65  0.53   2291.05   \n",
       "\n",
       "   이용시간(분)  이용거리(M)  이용시간(본)  \n",
       "0     25.0      NaN      NaN  \n",
       "1    166.0      NaN      NaN  \n",
       "2     13.0      NaN      NaN  "
      ]
     },
     "execution_count": 5,
     "metadata": {},
     "output_type": "execute_result"
    }
   ],
   "source": [
    "df_month.head(3)"
   ]
  },
  {
   "cell_type": "code",
   "execution_count": 6,
   "metadata": {},
   "outputs": [
    {
     "data": {
      "text/html": [
       "<div>\n",
       "<style scoped>\n",
       "    .dataframe tbody tr th:only-of-type {\n",
       "        vertical-align: middle;\n",
       "    }\n",
       "\n",
       "    .dataframe tbody tr th {\n",
       "        vertical-align: top;\n",
       "    }\n",
       "\n",
       "    .dataframe thead th {\n",
       "        text-align: right;\n",
       "    }\n",
       "</style>\n",
       "<table border=\"1\" class=\"dataframe\">\n",
       "  <thead>\n",
       "    <tr style=\"text-align: right;\">\n",
       "      <th></th>\n",
       "      <th>대여소\\n번호</th>\n",
       "      <th>보관소(대여소)명</th>\n",
       "      <th>소재지(위치)</th>\n",
       "      <th>Unnamed: 3</th>\n",
       "      <th>Unnamed: 4</th>\n",
       "      <th>Unnamed: 5</th>\n",
       "      <th>설치\\n시기</th>\n",
       "      <th>설치형태</th>\n",
       "      <th>Unnamed: 8</th>\n",
       "      <th>운영\\n방식</th>\n",
       "    </tr>\n",
       "  </thead>\n",
       "  <tbody>\n",
       "    <tr>\n",
       "      <th>0</th>\n",
       "      <td>NaN</td>\n",
       "      <td>NaN</td>\n",
       "      <td>NaN</td>\n",
       "      <td>NaN</td>\n",
       "      <td>NaN</td>\n",
       "      <td>NaN</td>\n",
       "      <td>NaN</td>\n",
       "      <td>LCD</td>\n",
       "      <td>QR</td>\n",
       "      <td>NaN</td>\n",
       "    </tr>\n",
       "    <tr>\n",
       "      <th>1</th>\n",
       "      <td>NaN</td>\n",
       "      <td>NaN</td>\n",
       "      <td>자치구</td>\n",
       "      <td>상세주소</td>\n",
       "      <td>위도</td>\n",
       "      <td>경도</td>\n",
       "      <td>NaN</td>\n",
       "      <td>NaN</td>\n",
       "      <td>NaN</td>\n",
       "      <td>NaN</td>\n",
       "    </tr>\n",
       "    <tr>\n",
       "      <th>2</th>\n",
       "      <td>NaN</td>\n",
       "      <td>NaN</td>\n",
       "      <td>NaN</td>\n",
       "      <td>NaN</td>\n",
       "      <td>NaN</td>\n",
       "      <td>NaN</td>\n",
       "      <td>NaN</td>\n",
       "      <td>거치\\n대수</td>\n",
       "      <td>거치\\n대수</td>\n",
       "      <td>NaN</td>\n",
       "    </tr>\n",
       "    <tr>\n",
       "      <th>3</th>\n",
       "      <td>NaN</td>\n",
       "      <td>NaN</td>\n",
       "      <td>NaN</td>\n",
       "      <td>NaN</td>\n",
       "      <td>NaN</td>\n",
       "      <td>NaN</td>\n",
       "      <td>NaN</td>\n",
       "      <td>NaN</td>\n",
       "      <td>NaN</td>\n",
       "      <td>NaN</td>\n",
       "    </tr>\n",
       "    <tr>\n",
       "      <th>4</th>\n",
       "      <td>102.0</td>\n",
       "      <td>망원역 1번출구 앞</td>\n",
       "      <td>마포구</td>\n",
       "      <td>서울특별시 마포구 월드컵로 72</td>\n",
       "      <td>37.5556488</td>\n",
       "      <td>126.9106293</td>\n",
       "      <td>2015-09-06</td>\n",
       "      <td>20</td>\n",
       "      <td>NaN</td>\n",
       "      <td>LCD</td>\n",
       "    </tr>\n",
       "  </tbody>\n",
       "</table>\n",
       "</div>"
      ],
      "text/plain": [
       "   대여소\\n번호   보관소(대여소)명 소재지(위치)         Unnamed: 3  Unnamed: 4   Unnamed: 5  \\\n",
       "0      NaN         NaN     NaN                NaN         NaN          NaN   \n",
       "1      NaN         NaN     자치구               상세주소          위도           경도   \n",
       "2      NaN         NaN     NaN                NaN         NaN          NaN   \n",
       "3      NaN         NaN     NaN                NaN         NaN          NaN   \n",
       "4    102.0  망원역 1번출구 앞     마포구  서울특별시 마포구 월드컵로 72  37.5556488  126.9106293   \n",
       "\n",
       "       설치\\n시기    설치형태 Unnamed: 8 운영\\n방식  \n",
       "0         NaN     LCD         QR    NaN  \n",
       "1         NaN     NaN        NaN    NaN  \n",
       "2         NaN  거치\\n대수     거치\\n대수    NaN  \n",
       "3         NaN     NaN        NaN    NaN  \n",
       "4  2015-09-06      20        NaN    LCD  "
      ]
     },
     "execution_count": 6,
     "metadata": {},
     "output_type": "execute_result"
    }
   ],
   "source": [
    "df_location.head()"
   ]
  },
  {
   "cell_type": "code",
   "execution_count": 7,
   "metadata": {},
   "outputs": [
    {
     "data": {
      "text/html": [
       "<div>\n",
       "<style scoped>\n",
       "    .dataframe tbody tr th:only-of-type {\n",
       "        vertical-align: middle;\n",
       "    }\n",
       "\n",
       "    .dataframe tbody tr th {\n",
       "        vertical-align: top;\n",
       "    }\n",
       "\n",
       "    .dataframe thead th {\n",
       "        text-align: right;\n",
       "    }\n",
       "</style>\n",
       "<table border=\"1\" class=\"dataframe\">\n",
       "  <thead>\n",
       "    <tr style=\"text-align: right;\">\n",
       "      <th></th>\n",
       "      <th>가입일자</th>\n",
       "      <th>사용자코드</th>\n",
       "      <th>연령대코드</th>\n",
       "      <th>성별</th>\n",
       "      <th>가입 수</th>\n",
       "    </tr>\n",
       "  </thead>\n",
       "  <tbody>\n",
       "    <tr>\n",
       "      <th>0</th>\n",
       "      <td>2018-07-20</td>\n",
       "      <td>회원-내국인</td>\n",
       "      <td>10대</td>\n",
       "      <td>NaN</td>\n",
       "      <td>221</td>\n",
       "    </tr>\n",
       "    <tr>\n",
       "      <th>1</th>\n",
       "      <td>2018-07-20</td>\n",
       "      <td>회원-내국인</td>\n",
       "      <td>20대</td>\n",
       "      <td>NaN</td>\n",
       "      <td>1189</td>\n",
       "    </tr>\n",
       "    <tr>\n",
       "      <th>2</th>\n",
       "      <td>2018-07-20</td>\n",
       "      <td>회원-내국인</td>\n",
       "      <td>30대</td>\n",
       "      <td>NaN</td>\n",
       "      <td>348</td>\n",
       "    </tr>\n",
       "    <tr>\n",
       "      <th>3</th>\n",
       "      <td>2018-07-20</td>\n",
       "      <td>회원-내국인</td>\n",
       "      <td>40대</td>\n",
       "      <td>NaN</td>\n",
       "      <td>201</td>\n",
       "    </tr>\n",
       "    <tr>\n",
       "      <th>4</th>\n",
       "      <td>2018-07-20</td>\n",
       "      <td>회원-내국인</td>\n",
       "      <td>50대</td>\n",
       "      <td>NaN</td>\n",
       "      <td>91</td>\n",
       "    </tr>\n",
       "  </tbody>\n",
       "</table>\n",
       "</div>"
      ],
      "text/plain": [
       "         가입일자   사용자코드 연령대코드   성별  가입 수\n",
       "0  2018-07-20  회원-내국인   10대  NaN   221\n",
       "1  2018-07-20  회원-내국인   20대  NaN  1189\n",
       "2  2018-07-20  회원-내국인   30대  NaN   348\n",
       "3  2018-07-20  회원-내국인   40대  NaN   201\n",
       "4  2018-07-20  회원-내국인   50대  NaN    91"
      ]
     },
     "execution_count": 7,
     "metadata": {},
     "output_type": "execute_result"
    }
   ],
   "source": [
    "df_member.head()"
   ]
  },
  {
   "cell_type": "code",
   "execution_count": 8,
   "metadata": {},
   "outputs": [
    {
     "data": {
      "text/html": [
       "<div>\n",
       "<style scoped>\n",
       "    .dataframe tbody tr th:only-of-type {\n",
       "        vertical-align: middle;\n",
       "    }\n",
       "\n",
       "    .dataframe tbody tr th {\n",
       "        vertical-align: top;\n",
       "    }\n",
       "\n",
       "    .dataframe thead th {\n",
       "        text-align: right;\n",
       "    }\n",
       "</style>\n",
       "<table border=\"1\" class=\"dataframe\">\n",
       "  <thead>\n",
       "    <tr style=\"text-align: right;\">\n",
       "      <th></th>\n",
       "      <th>대여일자</th>\n",
       "      <th>대여소명</th>\n",
       "      <th>대여구분코드</th>\n",
       "      <th>성별</th>\n",
       "      <th>연령대코드</th>\n",
       "      <th>운동량</th>\n",
       "      <th>탄소량</th>\n",
       "    </tr>\n",
       "  </thead>\n",
       "  <tbody>\n",
       "    <tr>\n",
       "      <th>count</th>\n",
       "      <td>718857</td>\n",
       "      <td>718857</td>\n",
       "      <td>718857</td>\n",
       "      <td>401235</td>\n",
       "      <td>718857</td>\n",
       "      <td>718857</td>\n",
       "      <td>718857</td>\n",
       "    </tr>\n",
       "    <tr>\n",
       "      <th>unique</th>\n",
       "      <td>30</td>\n",
       "      <td>2188</td>\n",
       "      <td>4</td>\n",
       "      <td>4</td>\n",
       "      <td>7</td>\n",
       "      <td>51422</td>\n",
       "      <td>1333</td>\n",
       "    </tr>\n",
       "    <tr>\n",
       "      <th>top</th>\n",
       "      <td>2021-01-25</td>\n",
       "      <td>2102. 봉림교 교통섬</td>\n",
       "      <td>정기권</td>\n",
       "      <td>M</td>\n",
       "      <td>20대</td>\n",
       "      <td>0.00</td>\n",
       "      <td>0.00</td>\n",
       "    </tr>\n",
       "    <tr>\n",
       "      <th>freq</th>\n",
       "      <td>47304</td>\n",
       "      <td>1799</td>\n",
       "      <td>585211</td>\n",
       "      <td>262477</td>\n",
       "      <td>270097</td>\n",
       "      <td>73806</td>\n",
       "      <td>74193</td>\n",
       "    </tr>\n",
       "  </tbody>\n",
       "</table>\n",
       "</div>"
      ],
      "text/plain": [
       "              대여일자           대여소명  대여구분코드      성별   연령대코드     운동량     탄소량\n",
       "count       718857         718857  718857  401235  718857  718857  718857\n",
       "unique          30           2188       4       4       7   51422    1333\n",
       "top     2021-01-25  2102. 봉림교 교통섬     정기권       M     20대    0.00    0.00\n",
       "freq         47304           1799  585211  262477  270097   73806   74193"
      ]
     },
     "execution_count": 8,
     "metadata": {},
     "output_type": "execute_result"
    }
   ],
   "source": [
    "df_day.describe(include=np.object_)\n",
    "# 분석하면서 성별의 종류가 여러개가 나와서 확인해보니 4개이다.\n",
    "# 이후 분석하면서 해당 문제를 해결"
   ]
  },
  {
   "cell_type": "code",
   "execution_count": 9,
   "metadata": {},
   "outputs": [
    {
     "data": {
      "text/html": [
       "<div>\n",
       "<style scoped>\n",
       "    .dataframe tbody tr th:only-of-type {\n",
       "        vertical-align: middle;\n",
       "    }\n",
       "\n",
       "    .dataframe tbody tr th {\n",
       "        vertical-align: top;\n",
       "    }\n",
       "\n",
       "    .dataframe thead th {\n",
       "        text-align: right;\n",
       "    }\n",
       "</style>\n",
       "<table border=\"1\" class=\"dataframe\">\n",
       "  <thead>\n",
       "    <tr style=\"text-align: right;\">\n",
       "      <th></th>\n",
       "      <th>대여일자</th>\n",
       "      <th>대여시간</th>\n",
       "      <th>대여소번호</th>\n",
       "      <th>대여소명</th>\n",
       "      <th>대여구분코드</th>\n",
       "      <th>성별</th>\n",
       "      <th>연령대코드</th>\n",
       "      <th>이용건수</th>\n",
       "      <th>운동량</th>\n",
       "      <th>탄소량</th>\n",
       "      <th>이동거리</th>\n",
       "      <th>사용시간</th>\n",
       "    </tr>\n",
       "  </thead>\n",
       "  <tbody>\n",
       "    <tr>\n",
       "      <th>0</th>\n",
       "      <td>2021-12-01</td>\n",
       "      <td>0</td>\n",
       "      <td>953</td>\n",
       "      <td>953. 서울연신초등학교</td>\n",
       "      <td>정기권</td>\n",
       "      <td>NaN</td>\n",
       "      <td>~10대</td>\n",
       "      <td>1</td>\n",
       "      <td>0.00</td>\n",
       "      <td>0.00</td>\n",
       "      <td>0.00</td>\n",
       "      <td>14</td>\n",
       "    </tr>\n",
       "    <tr>\n",
       "      <th>1</th>\n",
       "      <td>2021-12-01</td>\n",
       "      <td>0</td>\n",
       "      <td>1668</td>\n",
       "      <td>1668. 중계역 6번출구</td>\n",
       "      <td>정기권</td>\n",
       "      <td>NaN</td>\n",
       "      <td>~10대</td>\n",
       "      <td>1</td>\n",
       "      <td>30.60</td>\n",
       "      <td>0.28</td>\n",
       "      <td>1207.46</td>\n",
       "      <td>7</td>\n",
       "    </tr>\n",
       "    <tr>\n",
       "      <th>2</th>\n",
       "      <td>2021-12-01</td>\n",
       "      <td>0</td>\n",
       "      <td>1669</td>\n",
       "      <td>1669. 중계역 3번출구</td>\n",
       "      <td>정기권</td>\n",
       "      <td>NaN</td>\n",
       "      <td>~10대</td>\n",
       "      <td>1</td>\n",
       "      <td>26.03</td>\n",
       "      <td>0.25</td>\n",
       "      <td>1095.63</td>\n",
       "      <td>6</td>\n",
       "    </tr>\n",
       "    <tr>\n",
       "      <th>3</th>\n",
       "      <td>2021-12-01</td>\n",
       "      <td>0</td>\n",
       "      <td>280</td>\n",
       "      <td>280. 양평동6차현대아파트 앞</td>\n",
       "      <td>정기권</td>\n",
       "      <td>NaN</td>\n",
       "      <td>~10대</td>\n",
       "      <td>1</td>\n",
       "      <td>36.53</td>\n",
       "      <td>0.29</td>\n",
       "      <td>1230.00</td>\n",
       "      <td>7</td>\n",
       "    </tr>\n",
       "    <tr>\n",
       "      <th>4</th>\n",
       "      <td>2021-12-01</td>\n",
       "      <td>0</td>\n",
       "      <td>1184</td>\n",
       "      <td>1184. 마곡13단지</td>\n",
       "      <td>정기권</td>\n",
       "      <td>NaN</td>\n",
       "      <td>~10대</td>\n",
       "      <td>1</td>\n",
       "      <td>0.00</td>\n",
       "      <td>0.00</td>\n",
       "      <td>0.00</td>\n",
       "      <td>17</td>\n",
       "    </tr>\n",
       "  </tbody>\n",
       "</table>\n",
       "</div>"
      ],
      "text/plain": [
       "         대여일자  대여시간  대여소번호               대여소명 대여구분코드   성별 연령대코드  이용건수    운동량  \\\n",
       "0  2021-12-01     0    953      953. 서울연신초등학교    정기권  NaN  ~10대     1   0.00   \n",
       "1  2021-12-01     0   1668     1668. 중계역 6번출구    정기권  NaN  ~10대     1  30.60   \n",
       "2  2021-12-01     0   1669     1669. 중계역 3번출구    정기권  NaN  ~10대     1  26.03   \n",
       "3  2021-12-01     0    280  280. 양평동6차현대아파트 앞    정기권  NaN  ~10대     1  36.53   \n",
       "4  2021-12-01     0   1184       1184. 마곡13단지    정기권  NaN  ~10대     1   0.00   \n",
       "\n",
       "    탄소량     이동거리  사용시간  \n",
       "0  0.00     0.00    14  \n",
       "1  0.28  1207.46     7  \n",
       "2  0.25  1095.63     6  \n",
       "3  0.29  1230.00     7  \n",
       "4  0.00     0.00    17  "
      ]
     },
     "execution_count": 9,
     "metadata": {},
     "output_type": "execute_result"
    }
   ],
   "source": [
    "df_cor.head()"
   ]
  },
  {
   "cell_type": "markdown",
   "metadata": {},
   "source": [
    "### 결측치 처리\n",
    "###### 위의 데이터들을 확인한 후 결측치를 처리한다."
   ]
  },
  {
   "cell_type": "code",
   "execution_count": 10,
   "metadata": {},
   "outputs": [
    {
     "data": {
      "text/plain": [
       "대여일자             0\n",
       "대여소번호            0\n",
       "대여소명             0\n",
       "대여구분코드           0\n",
       "성별          172453\n",
       "연령대코드            0\n",
       "이용건수             0\n",
       "운동량              0\n",
       "탄소량              0\n",
       "이동거리(M)     128413\n",
       "이용시간(분)     128413\n",
       "이용거리(M)    1195102\n",
       "이용시간(본)    1195102\n",
       "dtype: int64"
      ]
     },
     "execution_count": 10,
     "metadata": {},
     "output_type": "execute_result"
    }
   ],
   "source": [
    "# df_month 결측치 확인(각 열별로 결측치가 몇개씩 존재하는지 확인)\n",
    "df_month.isnull().sum()\n"
   ]
  },
  {
   "cell_type": "code",
   "execution_count": 11,
   "metadata": {},
   "outputs": [],
   "source": [
    "# 결측치를 0으로 채운다.\n",
    "df_month=df_month.fillna(0) #이후 결측치 처리는 이동거리/평균사용시간 분석에서 진행한다."
   ]
  },
  {
   "cell_type": "code",
   "execution_count": 12,
   "metadata": {},
   "outputs": [
    {
     "data": {
      "text/plain": [
       "대여일자           0\n",
       "대여시간           0\n",
       "대여소번호          0\n",
       "대여소명           0\n",
       "대여구분코드         0\n",
       "성별        317622\n",
       "연령대코드          0\n",
       "이용건수           0\n",
       "운동량            0\n",
       "탄소량            0\n",
       "이동거리           0\n",
       "사용시간           0\n",
       "dtype: int64"
      ]
     },
     "execution_count": 12,
     "metadata": {},
     "output_type": "execute_result"
    }
   ],
   "source": [
    "# 시간대별 데이터 결측치 개수 확인\n",
    "df_day.isnull().sum()"
   ]
  },
  {
   "cell_type": "code",
   "execution_count": 13,
   "metadata": {},
   "outputs": [],
   "source": [
    "df_day=df_day.dropna()"
   ]
  },
  {
   "cell_type": "code",
   "execution_count": 14,
   "metadata": {},
   "outputs": [
    {
     "name": "stdout",
     "output_type": "stream",
     "text": [
      "<class 'pandas.core.frame.DataFrame'>\n",
      "RangeIndex: 1519851 entries, 0 to 1519850\n",
      "Data columns (total 12 columns):\n",
      " #   Column  Non-Null Count    Dtype  \n",
      "---  ------  --------------    -----  \n",
      " 0   대여일자    1519851 non-null  object \n",
      " 1   대여시간    1519851 non-null  int64  \n",
      " 2   대여소번호   1519851 non-null  int64  \n",
      " 3   대여소명    1519851 non-null  object \n",
      " 4   대여구분코드  1519851 non-null  object \n",
      " 5   성별      922567 non-null   object \n",
      " 6   연령대코드   1519851 non-null  object \n",
      " 7   이용건수    1519851 non-null  int64  \n",
      " 8   운동량     1519851 non-null  object \n",
      " 9   탄소량     1519851 non-null  object \n",
      " 10  이동거리    1519851 non-null  float64\n",
      " 11  사용시간    1519851 non-null  int64  \n",
      "dtypes: float64(1), int64(4), object(7)\n",
      "memory usage: 139.1+ MB\n"
     ]
    }
   ],
   "source": [
    "df_cor.info()"
   ]
  },
  {
   "cell_type": "code",
   "execution_count": 15,
   "metadata": {},
   "outputs": [
    {
     "name": "stderr",
     "output_type": "stream",
     "text": [
      "C:\\Users\\enqu7\\AppData\\Local\\Temp\\ipykernel_13752\\2478797993.py:2: SettingWithCopyWarning: \n",
      "A value is trying to be set on a copy of a slice from a DataFrame\n",
      "\n",
      "See the caveats in the documentation: https://pandas.pydata.org/pandas-docs/stable/user_guide/indexing.html#returning-a-view-versus-a-copy\n",
      "  df_cor['운동량'][(df_cor['운동량']==r'\\N')]=0\n"
     ]
    },
    {
     "name": "stdout",
     "output_type": "stream",
     "text": [
      "<class 'pandas.core.frame.DataFrame'>\n",
      "RangeIndex: 1519851 entries, 0 to 1519850\n",
      "Data columns (total 12 columns):\n",
      " #   Column  Non-Null Count    Dtype  \n",
      "---  ------  --------------    -----  \n",
      " 0   대여일자    1519851 non-null  object \n",
      " 1   대여시간    1519851 non-null  int64  \n",
      " 2   대여소번호   1519851 non-null  int64  \n",
      " 3   대여소명    1519851 non-null  object \n",
      " 4   대여구분코드  1519851 non-null  object \n",
      " 5   성별      922567 non-null   object \n",
      " 6   연령대코드   1519851 non-null  object \n",
      " 7   이용건수    1519851 non-null  int64  \n",
      " 8   운동량     1519851 non-null  float64\n",
      " 9   탄소량     1519851 non-null  object \n",
      " 10  이동거리    1519851 non-null  float64\n",
      " 11  사용시간    1519851 non-null  int64  \n",
      "dtypes: float64(2), int64(4), object(6)\n",
      "memory usage: 139.1+ MB\n"
     ]
    }
   ],
   "source": [
    "#운동량이 object형이므로 실수형으로 바꾸어 준다.\n",
    "df_cor['운동량'][(df_cor['운동량']==r'\\N')]=0\n",
    "df_cor['운동량']=pd.to_numeric(df_cor['운동량'])\n",
    "df_cor.info()"
   ]
  },
  {
   "cell_type": "code",
   "execution_count": 16,
   "metadata": {},
   "outputs": [
    {
     "data": {
      "text/plain": [
       "대여일자           0\n",
       "대여시간           0\n",
       "대여소번호          0\n",
       "대여소명           0\n",
       "대여구분코드         0\n",
       "성별        597284\n",
       "연령대코드          0\n",
       "이용건수           0\n",
       "운동량            0\n",
       "탄소량            0\n",
       "이동거리           0\n",
       "사용시간           0\n",
       "dtype: int64"
      ]
     },
     "execution_count": 16,
     "metadata": {},
     "output_type": "execute_result"
    }
   ],
   "source": [
    "df_cor.isnull().sum()"
   ]
  },
  {
   "cell_type": "code",
   "execution_count": 17,
   "metadata": {},
   "outputs": [],
   "source": [
    "df_cor=df_cor.dropna()"
   ]
  },
  {
   "cell_type": "markdown",
   "metadata": {},
   "source": [
    "### 이동거리/평균사용시간이 높은 대여소는?"
   ]
  },
  {
   "cell_type": "code",
   "execution_count": 18,
   "metadata": {},
   "outputs": [
    {
     "data": {
      "text/plain": [
       "대여소명               \n",
       "Y                      123146\n",
       "207. 여의나루역 1번출구 앞         873\n",
       "502. 뚝섬유원지역 1번출구 앞        862\n",
       "2622. 올림픽공원역 3번출구         829\n",
       "583. 청계천 생태교실 앞           828\n",
       "                        ...  \n",
       "1114. 서남물재생센터 버스정류장         2\n",
       "훈련원센터                       2\n",
       "2918.골마을 근린공원               1\n",
       "9990_도봉센터                   1\n",
       "학여울센터                       1\n",
       "Length: 2695, dtype: int64"
      ]
     },
     "execution_count": 18,
     "metadata": {},
     "output_type": "execute_result"
    }
   ],
   "source": [
    "dfcount=df_month.loc[:,['대여소명']]\n",
    "dfcount.value_counts()"
   ]
  },
  {
   "cell_type": "code",
   "execution_count": 17,
   "metadata": {},
   "outputs": [
    {
     "data": {
      "text/html": [
       "<div>\n",
       "<style scoped>\n",
       "    .dataframe tbody tr th:only-of-type {\n",
       "        vertical-align: middle;\n",
       "    }\n",
       "\n",
       "    .dataframe tbody tr th {\n",
       "        vertical-align: top;\n",
       "    }\n",
       "\n",
       "    .dataframe thead th {\n",
       "        text-align: right;\n",
       "    }\n",
       "</style>\n",
       "<table border=\"1\" class=\"dataframe\">\n",
       "  <thead>\n",
       "    <tr style=\"text-align: right;\">\n",
       "      <th></th>\n",
       "      <th>대여소명</th>\n",
       "      <th>거리(M)</th>\n",
       "    </tr>\n",
       "  </thead>\n",
       "  <tbody>\n",
       "    <tr>\n",
       "      <th>0</th>\n",
       "      <td>중랑센터</td>\n",
       "      <td>860.000000</td>\n",
       "    </tr>\n",
       "    <tr>\n",
       "      <th>1</th>\n",
       "      <td>중랑센터</td>\n",
       "      <td>1126.407273</td>\n",
       "    </tr>\n",
       "    <tr>\n",
       "      <th>2</th>\n",
       "      <td>중랑센터</td>\n",
       "      <td>2291.050000</td>\n",
       "    </tr>\n",
       "    <tr>\n",
       "      <th>3</th>\n",
       "      <td>상암센터 정비실</td>\n",
       "      <td>15209.580000</td>\n",
       "    </tr>\n",
       "    <tr>\n",
       "      <th>4</th>\n",
       "      <td>상암센터 정비실</td>\n",
       "      <td>2440.433333</td>\n",
       "    </tr>\n",
       "    <tr>\n",
       "      <th>...</th>\n",
       "      <td>...</td>\n",
       "      <td>...</td>\n",
       "    </tr>\n",
       "    <tr>\n",
       "      <th>102921</th>\n",
       "      <td>상담센터</td>\n",
       "      <td>1390.000000</td>\n",
       "    </tr>\n",
       "    <tr>\n",
       "      <th>102922</th>\n",
       "      <td>상담센터</td>\n",
       "      <td>230.100000</td>\n",
       "    </tr>\n",
       "    <tr>\n",
       "      <th>102923</th>\n",
       "      <td>상담센터</td>\n",
       "      <td>1595.000000</td>\n",
       "    </tr>\n",
       "    <tr>\n",
       "      <th>102924</th>\n",
       "      <td>88888.영남배송</td>\n",
       "      <td>0.000000</td>\n",
       "    </tr>\n",
       "    <tr>\n",
       "      <th>102925</th>\n",
       "      <td>99999. 영남단말기정비</td>\n",
       "      <td>0.000000</td>\n",
       "    </tr>\n",
       "  </tbody>\n",
       "</table>\n",
       "<p>1323515 rows × 2 columns</p>\n",
       "</div>"
      ],
      "text/plain": [
       "                  대여소명         거리(M)\n",
       "0                 중랑센터    860.000000\n",
       "1                 중랑센터   1126.407273\n",
       "2                 중랑센터   2291.050000\n",
       "3             상암센터 정비실  15209.580000\n",
       "4             상암센터 정비실   2440.433333\n",
       "...                ...           ...\n",
       "102921            상담센터   1390.000000\n",
       "102922            상담센터    230.100000\n",
       "102923            상담센터   1595.000000\n",
       "102924      88888.영남배송      0.000000\n",
       "102925  99999. 영남단말기정비      0.000000\n",
       "\n",
       "[1323515 rows x 2 columns]"
      ]
     },
     "execution_count": 17,
     "metadata": {},
     "output_type": "execute_result"
    }
   ],
   "source": [
    "# 현재 이동거리와 이용거리 둘 중 하나만 존재하므로 이를 더해서 이용건수로 나누어준 뒤, 필요한 열만 남긴다.\n",
    "df_month['거리(M)']=(df_month['이동거리(M)']+df_month['이용거리(M)'])/df_month['이용건수']\n",
    "dfDis=df_month.loc[:,['대여소명','거리(M)']]\n",
    "dfDis"
   ]
  },
  {
   "cell_type": "code",
   "execution_count": 18,
   "metadata": {},
   "outputs": [
    {
     "data": {
      "text/html": [
       "<div>\n",
       "<style scoped>\n",
       "    .dataframe tbody tr th:only-of-type {\n",
       "        vertical-align: middle;\n",
       "    }\n",
       "\n",
       "    .dataframe tbody tr th {\n",
       "        vertical-align: top;\n",
       "    }\n",
       "\n",
       "    .dataframe thead th {\n",
       "        text-align: right;\n",
       "    }\n",
       "</style>\n",
       "<table border=\"1\" class=\"dataframe\">\n",
       "  <thead>\n",
       "    <tr style=\"text-align: right;\">\n",
       "      <th></th>\n",
       "      <th>대여소명</th>\n",
       "      <th>거리(M)</th>\n",
       "    </tr>\n",
       "  </thead>\n",
       "  <tbody>\n",
       "    <tr>\n",
       "      <th>701</th>\n",
       "      <td>1858. 석수역1번출구 앞 (SK주유소)</td>\n",
       "      <td>8347.416285</td>\n",
       "    </tr>\n",
       "    <tr>\n",
       "      <th>671</th>\n",
       "      <td>1827. 독산보도육교 앞 자전거 보관소</td>\n",
       "      <td>7503.337808</td>\n",
       "    </tr>\n",
       "    <tr>\n",
       "      <th>799</th>\n",
       "      <td>2025. 흑석역 1번출구</td>\n",
       "      <td>6985.098320</td>\n",
       "    </tr>\n",
       "    <tr>\n",
       "      <th>1621</th>\n",
       "      <td>3627. 압구정나들목</td>\n",
       "      <td>6807.122483</td>\n",
       "    </tr>\n",
       "    <tr>\n",
       "      <th>808</th>\n",
       "      <td>2037. 동작역 5번출구 동작주차공원</td>\n",
       "      <td>6739.656967</td>\n",
       "    </tr>\n",
       "    <tr>\n",
       "      <th>1661</th>\n",
       "      <td>3677. 강동구음식물재활용센터</td>\n",
       "      <td>6713.269398</td>\n",
       "    </tr>\n",
       "    <tr>\n",
       "      <th>704</th>\n",
       "      <td>1861.IBK기업은행 석수역 지점 앞</td>\n",
       "      <td>6702.037407</td>\n",
       "    </tr>\n",
       "    <tr>\n",
       "      <th>1028</th>\n",
       "      <td>2314. 청담나들목입구</td>\n",
       "      <td>6632.590357</td>\n",
       "    </tr>\n",
       "    <tr>\n",
       "      <th>2344</th>\n",
       "      <td>565. 옥수역 3번출구</td>\n",
       "      <td>6620.452153</td>\n",
       "    </tr>\n",
       "    <tr>\n",
       "      <th>2673</th>\n",
       "      <td>9990_도봉센터</td>\n",
       "      <td>6540.000000</td>\n",
       "    </tr>\n",
       "  </tbody>\n",
       "</table>\n",
       "</div>"
      ],
      "text/plain": [
       "                         대여소명        거리(M)\n",
       "701   1858. 석수역1번출구 앞 (SK주유소)  8347.416285\n",
       "671    1827. 독산보도육교 앞 자전거 보관소  7503.337808\n",
       "799            2025. 흑석역 1번출구  6985.098320\n",
       "1621             3627. 압구정나들목  6807.122483\n",
       "808     2037. 동작역 5번출구 동작주차공원  6739.656967\n",
       "1661        3677. 강동구음식물재활용센터  6713.269398\n",
       "704     1861.IBK기업은행 석수역 지점 앞  6702.037407\n",
       "1028            2314. 청담나들목입구  6632.590357\n",
       "2344            565. 옥수역 3번출구  6620.452153\n",
       "2673                9990_도봉센터  6540.000000"
      ]
     },
     "execution_count": 18,
     "metadata": {},
     "output_type": "execute_result"
    }
   ],
   "source": [
    "#각 대여소별 이용거리 평균을 내림차순으로 정렬한다. 그 후, 상위 10개의 행을 뽑아서 저장\n",
    "disave=dfDis.groupby(['대여소명'],as_index=False).mean().sort_values(by='거리(M)',ascending=False)\n",
    "disave=disave[:10]\n",
    "disave"
   ]
  },
  {
   "cell_type": "code",
   "execution_count": 38,
   "metadata": {},
   "outputs": [
    {
     "data": {
      "image/png": "[encoded data removed]",
      "text/plain": [
       "<Figure size 576x396 with 1 Axes>"
      ]
     },
     "metadata": {},
     "output_type": "display_data"
    }
   ],
   "source": [
    "# 이동거리 시각화 (막대그래프 사용)\n",
    "title_font = {'fontsize': 20,'fontweight': 'bold'}\n",
    "title = plt.title('평균 이동거리 상위 10개의 대여소', fontdict=title_font, loc='left', pad=20)\n",
    "plt.barh(disave['대여소명'],disave['거리(M)'],color='darkseagreen')\n",
    "plt.xlabel('이동거리 (m)')\n",
    "plt.show()"
   ]
  },
  {
   "cell_type": "code",
   "execution_count": 20,
   "metadata": {},
   "outputs": [
    {
     "data": {
      "text/html": [
       "<div>\n",
       "<style scoped>\n",
       "    .dataframe tbody tr th:only-of-type {\n",
       "        vertical-align: middle;\n",
       "    }\n",
       "\n",
       "    .dataframe tbody tr th {\n",
       "        vertical-align: top;\n",
       "    }\n",
       "\n",
       "    .dataframe thead th {\n",
       "        text-align: right;\n",
       "    }\n",
       "</style>\n",
       "<table border=\"1\" class=\"dataframe\">\n",
       "  <thead>\n",
       "    <tr style=\"text-align: right;\">\n",
       "      <th></th>\n",
       "      <th>대여소명</th>\n",
       "      <th>이용시간 (분)</th>\n",
       "    </tr>\n",
       "  </thead>\n",
       "  <tbody>\n",
       "    <tr>\n",
       "      <th>0</th>\n",
       "      <td>중랑센터</td>\n",
       "      <td>12.500000</td>\n",
       "    </tr>\n",
       "    <tr>\n",
       "      <th>1</th>\n",
       "      <td>중랑센터</td>\n",
       "      <td>15.090909</td>\n",
       "    </tr>\n",
       "    <tr>\n",
       "      <th>2</th>\n",
       "      <td>중랑센터</td>\n",
       "      <td>13.000000</td>\n",
       "    </tr>\n",
       "    <tr>\n",
       "      <th>3</th>\n",
       "      <td>상암센터 정비실</td>\n",
       "      <td>47.000000</td>\n",
       "    </tr>\n",
       "    <tr>\n",
       "      <th>4</th>\n",
       "      <td>상암센터 정비실</td>\n",
       "      <td>22.333333</td>\n",
       "    </tr>\n",
       "    <tr>\n",
       "      <th>...</th>\n",
       "      <td>...</td>\n",
       "      <td>...</td>\n",
       "    </tr>\n",
       "    <tr>\n",
       "      <th>102921</th>\n",
       "      <td>상담센터</td>\n",
       "      <td>15.500000</td>\n",
       "    </tr>\n",
       "    <tr>\n",
       "      <th>102922</th>\n",
       "      <td>상담센터</td>\n",
       "      <td>2.000000</td>\n",
       "    </tr>\n",
       "    <tr>\n",
       "      <th>102923</th>\n",
       "      <td>상담센터</td>\n",
       "      <td>14.000000</td>\n",
       "    </tr>\n",
       "    <tr>\n",
       "      <th>102924</th>\n",
       "      <td>88888.영남배송</td>\n",
       "      <td>17.000000</td>\n",
       "    </tr>\n",
       "    <tr>\n",
       "      <th>102925</th>\n",
       "      <td>99999. 영남단말기정비</td>\n",
       "      <td>1.250000</td>\n",
       "    </tr>\n",
       "  </tbody>\n",
       "</table>\n",
       "<p>1323515 rows × 2 columns</p>\n",
       "</div>"
      ],
      "text/plain": [
       "                  대여소명   이용시간 (분)\n",
       "0                 중랑센터  12.500000\n",
       "1                 중랑센터  15.090909\n",
       "2                 중랑센터  13.000000\n",
       "3             상암센터 정비실  47.000000\n",
       "4             상암센터 정비실  22.333333\n",
       "...                ...        ...\n",
       "102921            상담센터  15.500000\n",
       "102922            상담센터   2.000000\n",
       "102923            상담센터  14.000000\n",
       "102924      88888.영남배송  17.000000\n",
       "102925  99999. 영남단말기정비   1.250000\n",
       "\n",
       "[1323515 rows x 2 columns]"
      ]
     },
     "execution_count": 20,
     "metadata": {},
     "output_type": "execute_result"
    }
   ],
   "source": [
    "# 현재 이용시간(분)과 이용시간(본) 둘 중 하나만 존재하므로 이를 더해서 이용건수로 나눠준 뒤, 필요한 열만 남긴다.\n",
    "df_month['이용시간 (분)']=(df_month['이용시간(분)']+df_month['이용시간(본)'])/df_month['이용건수']\n",
    "df_time=df_month.loc[:,['대여소명','이용시간 (분)']]\n",
    "df_time"
   ]
  },
  {
   "cell_type": "code",
   "execution_count": 21,
   "metadata": {},
   "outputs": [
    {
     "data": {
      "text/html": [
       "<div>\n",
       "<style scoped>\n",
       "    .dataframe tbody tr th:only-of-type {\n",
       "        vertical-align: middle;\n",
       "    }\n",
       "\n",
       "    .dataframe tbody tr th {\n",
       "        vertical-align: top;\n",
       "    }\n",
       "\n",
       "    .dataframe thead th {\n",
       "        text-align: right;\n",
       "    }\n",
       "</style>\n",
       "<table border=\"1\" class=\"dataframe\">\n",
       "  <thead>\n",
       "    <tr style=\"text-align: right;\">\n",
       "      <th></th>\n",
       "      <th>대여소명</th>\n",
       "      <th>이용시간 (분)</th>\n",
       "    </tr>\n",
       "  </thead>\n",
       "  <tbody>\n",
       "    <tr>\n",
       "      <th>2673</th>\n",
       "      <td>9990_도봉센터</td>\n",
       "      <td>69.000000</td>\n",
       "    </tr>\n",
       "    <tr>\n",
       "      <th>701</th>\n",
       "      <td>1858. 석수역1번출구 앞 (SK주유소)</td>\n",
       "      <td>60.996900</td>\n",
       "    </tr>\n",
       "    <tr>\n",
       "      <th>808</th>\n",
       "      <td>2037. 동작역 5번출구 동작주차공원</td>\n",
       "      <td>56.252843</td>\n",
       "    </tr>\n",
       "    <tr>\n",
       "      <th>1014</th>\n",
       "      <td>2301. 현대고등학교 건너편</td>\n",
       "      <td>54.915696</td>\n",
       "    </tr>\n",
       "    <tr>\n",
       "      <th>1661</th>\n",
       "      <td>3677. 강동구음식물재활용센터</td>\n",
       "      <td>54.698919</td>\n",
       "    </tr>\n",
       "    <tr>\n",
       "      <th>671</th>\n",
       "      <td>1827. 독산보도육교 앞 자전거 보관소</td>\n",
       "      <td>54.032865</td>\n",
       "    </tr>\n",
       "    <tr>\n",
       "      <th>1573</th>\n",
       "      <td>3552.서울숲 공영주차장앞</td>\n",
       "      <td>53.362297</td>\n",
       "    </tr>\n",
       "    <tr>\n",
       "      <th>1621</th>\n",
       "      <td>3627. 압구정나들목</td>\n",
       "      <td>52.576397</td>\n",
       "    </tr>\n",
       "    <tr>\n",
       "      <th>978</th>\n",
       "      <td>2262. 한신16차아파트 119동 앞</td>\n",
       "      <td>52.538975</td>\n",
       "    </tr>\n",
       "    <tr>\n",
       "      <th>1153</th>\n",
       "      <td>249. 여의도중학교 옆</td>\n",
       "      <td>52.318514</td>\n",
       "    </tr>\n",
       "  </tbody>\n",
       "</table>\n",
       "</div>"
      ],
      "text/plain": [
       "                         대여소명   이용시간 (분)\n",
       "2673                9990_도봉센터  69.000000\n",
       "701   1858. 석수역1번출구 앞 (SK주유소)  60.996900\n",
       "808     2037. 동작역 5번출구 동작주차공원  56.252843\n",
       "1014         2301. 현대고등학교 건너편  54.915696\n",
       "1661        3677. 강동구음식물재활용센터  54.698919\n",
       "671    1827. 독산보도육교 앞 자전거 보관소  54.032865\n",
       "1573          3552.서울숲 공영주차장앞  53.362297\n",
       "1621             3627. 압구정나들목  52.576397\n",
       "978     2262. 한신16차아파트 119동 앞  52.538975\n",
       "1153            249. 여의도중학교 옆  52.318514"
      ]
     },
     "execution_count": 21,
     "metadata": {},
     "output_type": "execute_result"
    }
   ],
   "source": [
    "# 평균 이용시간 상위 10개의 대여소들을 출력한다.\n",
    "timeave=df_time.groupby(['대여소명'],as_index=False).mean().sort_values(by='이용시간 (분)',ascending=False)\n",
    "timeave=timeave[:10]\n",
    "timeave"
   ]
  },
  {
   "cell_type": "code",
   "execution_count": 37,
   "metadata": {},
   "outputs": [
    {
     "data": {
      "image/png": "[encoded data removed]",
      "text/plain": [
       "<Figure size 576x396 with 1 Axes>"
      ]
     },
     "metadata": {},
     "output_type": "display_data"
    }
   ],
   "source": [
    "# 이용시간 시각화 (막대그래프 사용)\n",
    "title_font = {'fontsize': 20,'fontweight': 'bold'}\n",
    "title = plt.title('평균 이용시간 상위 10개의 대여소', fontdict=title_font, loc='left', pad=20)\n",
    "plt.barh(timeave['대여소명'],timeave['이용시간 (분)'],color='darkseagreen')\n",
    "plt.xlabel('이용시간 (분)')\n",
    "plt.show()"
   ]
  },
  {
   "cell_type": "markdown",
   "metadata": {},
   "source": [
    "### 운동량과 이동거리의 상관관계"
   ]
  },
  {
   "cell_type": "code",
   "execution_count": 34,
   "metadata": {},
   "outputs": [
    {
     "data": {
      "image/png": "[encoded data removed]",
      "text/plain": [
       "<Figure size 576x396 with 1 Axes>"
      ]
     },
     "metadata": {},
     "output_type": "display_data"
    }
   ],
   "source": [
    "plt.scatter(x=df_cor['이동거리'],y=df_cor['운동량'],color='darkseagreen',alpha=0.4,s=df_cor['이동거리']//1000)\n",
    "fit_mom=np.polyfit(df_cor['이동거리'],df_cor['운동량'],1)\n",
    "trend_f=np.poly1d(fit_mom)\n",
    "r2=r2_score(df_cor['운동량'],trend_f(df_cor['이동거리']))\n",
    "plt.plot(df_cor['이동거리'],trend_f(df_cor['이동거리']),\"g\")\n",
    "plt.xlabel('이동거리')\n",
    "plt.ylabel('운동량')\n",
    "plt.title(\"이동거리와 운동량의 상관관계\\ny = %.6fx + (%.6f) [R2=%.6f]\"%(fit_mom[0],fit_mom[1],r2))\n",
    "plt.show()"
   ]
  },
  {
   "cell_type": "markdown",
   "metadata": {},
   "source": [
    "### 따릉이를 가장 많이 이용하는 성별/연령대"
   ]
  },
  {
   "cell_type": "code",
   "execution_count": 40,
   "metadata": {},
   "outputs": [
    {
     "data": {
      "text/plain": [
       "성별\n",
       "M     262477\n",
       "F     138500\n",
       "m        212\n",
       "f         46\n",
       "dtype: int64"
      ]
     },
     "execution_count": 40,
     "metadata": {},
     "output_type": "execute_result"
    }
   ],
   "source": [
    "# 분석에 필요한 컬럼인 성별과 이동거리 컬럼만 남긴다. \n",
    "dfsex=df_day.loc[:,['성별']]\n",
    "dfsex.value_counts()"
   ]
  },
  {
   "cell_type": "code",
   "execution_count": 41,
   "metadata": {},
   "outputs": [],
   "source": [
    "# f를 F로, m을 M으로 대체하는 작업을 한다.\n",
    "dfsex=dfsex.replace({'성별':'f'},{'성별':'F'})\n",
    "dfsex=dfsex.replace({'성별':'m'},{'성별':'M'})"
   ]
  },
  {
   "cell_type": "code",
   "execution_count": 42,
   "metadata": {},
   "outputs": [
    {
     "data": {
      "text/plain": [
       "성별\n",
       "M     0.654701\n",
       "F     0.345299\n",
       "dtype: float64"
      ]
     },
     "execution_count": 42,
     "metadata": {},
     "output_type": "execute_result"
    }
   ],
   "source": [
    "df_sex=dfsex.value_counts(normalize=True)\n",
    "df_sex"
   ]
  },
  {
   "cell_type": "code",
   "execution_count": 51,
   "metadata": {},
   "outputs": [
    {
     "data": {
      "image/png": "[encoded data removed]",
      "text/plain": [
       "<Figure size 576x396 with 1 Axes>"
      ]
     },
     "metadata": {},
     "output_type": "display_data"
    }
   ],
   "source": [
    "# 남녀 대여건수 비율을 원형 차트로 나타낸다.\n",
    "ratio = [df_sex[0],df_sex[1]]\n",
    "labels = ['남자', '여자']\n",
    "colors = ['seagreen','darkseagreen']\n",
    "wedgeprops={'width': 0.7, 'edgecolor': 'w', 'linewidth': 5}\n",
    "title_font = {'fontsize': 15}\n",
    "title = plt.title('성별에 따른 대여건수 비율', fontdict=title_font, loc='center', pad=20)\n",
    "plt.pie(ratio, labels=labels, autopct='%.1f%%', startangle=260, counterclock=False, colors=colors, wedgeprops=wedgeprops,textprops={'size':10})\n",
    "plt.show()"
   ]
  },
  {
   "cell_type": "code",
   "execution_count": 46,
   "metadata": {},
   "outputs": [
    {
     "data": {
      "text/plain": [
       "연령대코드\n",
       "20대      134044\n",
       "30대      110489\n",
       "40대       76092\n",
       "50대       47138\n",
       "60대       16019\n",
       "~10대      14860\n",
       "70대~       2593\n",
       "dtype: int64"
      ]
     },
     "execution_count": 46,
     "metadata": {},
     "output_type": "execute_result"
    }
   ],
   "source": [
    "dfage=df_day.loc[:,['연령대코드']]\n",
    "dfage.value_counts()"
   ]
  },
  {
   "cell_type": "markdown",
   "metadata": {},
   "source": []
  },
  {
   "cell_type": "code",
   "execution_count": 47,
   "metadata": {},
   "outputs": [],
   "source": [
    "dfage=dfage.replace({'연령대코드':'~10대'},{'연령대코드':'10대 이하'})\n",
    "dfage=dfage.replace({'연령대코드':'70대~'},{'연령대코드':'70대 이상'})"
   ]
  },
  {
   "cell_type": "code",
   "execution_count": 48,
   "metadata": {},
   "outputs": [
    {
     "data": {
      "text/plain": [
       "연령대코드 \n",
       "20대       0.334079\n",
       "30대       0.275372\n",
       "40대       0.189644\n",
       "50대       0.117482\n",
       "60대       0.039924\n",
       "10대 이하    0.037036\n",
       "70대 이상    0.006463\n",
       "dtype: float64"
      ]
     },
     "execution_count": 48,
     "metadata": {},
     "output_type": "execute_result"
    }
   ],
   "source": [
    "dfage=dfage.value_counts(normalize=True)\n",
    "dfage"
   ]
  },
  {
   "cell_type": "code",
   "execution_count": 49,
   "metadata": {},
   "outputs": [
    {
     "data": {
      "image/png": "[encoded data removed]",
      "text/plain": [
       "<Figure size 576x396 with 1 Axes>"
      ]
     },
     "metadata": {},
     "output_type": "display_data"
    }
   ],
   "source": [
    "# 남녀 대여건수 비율을 원형 차트로 나타낸다.\n",
    "ratio = [dfage[5]+dfage[6],dfage[0],dfage[1],dfage[2],dfage[3],dfage[4]]\n",
    "labels = ['10대 이하, 70대 이상','20대', '30대','40대','50대','60대']\n",
    "colors = ['palegreen','lightgreen','darkseagreen','mediumseagreen','seagreen','green']\n",
    "wedgeprops={'width': 0.7, 'edgecolor': 'w', 'linewidth': 5}\n",
    "title_font = {'fontsize': 15}\n",
    "title = plt.title('연령대에 따른 대여건수 비율', fontdict=title_font, loc='center', pad=20)\n",
    "plt.pie(ratio, labels=labels, autopct='%.1f%%', startangle=260, counterclock=False, colors=colors, wedgeprops=wedgeprops,textprops={'size':10})\n",
    "plt.show()"
   ]
  },
  {
   "cell_type": "code",
   "execution_count": null,
   "metadata": {},
   "outputs": [],
   "source": []
  }
 ],
 "metadata": {
  "interpreter": {
   "hash": "6ffd0a48abc7c5a81268003801b748c9b72ba19e118165c22eb0f9c1b1dd10c9"
  },
  "kernelspec": {
   "display_name": "Python 3 (ipykernel)",
   "language": "python",
   "name": "python3"
  },
  "language_info": {
   "codemirror_mode": {
    "name": "ipython",
    "version": 3
   },
   "file_extension": ".py",
   "mimetype": "text/x-python",
   "name": "python",
   "nbconvert_exporter": "python",
   "pygments_lexer": "ipython3",
   "version": "3.10.4"
  }
 },
 "nbformat": 4,
 "nbformat_minor": 2
}
